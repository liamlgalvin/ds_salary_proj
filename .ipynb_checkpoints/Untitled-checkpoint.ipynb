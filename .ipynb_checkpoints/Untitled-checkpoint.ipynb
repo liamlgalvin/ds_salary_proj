{
 "cells": [
  {
   "cell_type": "code",
   "execution_count": 96,
   "metadata": {},
   "outputs": [],
   "source": [
    "import pandas as pd\n",
    "import matplotlib.pyplot as plt\n",
    "import seaborn as sns"
   ]
  },
  {
   "cell_type": "code",
   "execution_count": 97,
   "metadata": {},
   "outputs": [],
   "source": [
    "df = pd.read_csv(\"salary_data_cleaned.csv\")"
   ]
  },
  {
   "cell_type": "code",
   "execution_count": 98,
   "metadata": {
    "scrolled": true
   },
   "outputs": [
    {
     "data": {
      "text/html": [
       "<div>\n",
       "<style scoped>\n",
       "    .dataframe tbody tr th:only-of-type {\n",
       "        vertical-align: middle;\n",
       "    }\n",
       "\n",
       "    .dataframe tbody tr th {\n",
       "        vertical-align: top;\n",
       "    }\n",
       "\n",
       "    .dataframe thead th {\n",
       "        text-align: right;\n",
       "    }\n",
       "</style>\n",
       "<table border=\"1\" class=\"dataframe\">\n",
       "  <thead>\n",
       "    <tr style=\"text-align: right;\">\n",
       "      <th></th>\n",
       "      <th>Job Title</th>\n",
       "      <th>Salary Estimate</th>\n",
       "      <th>Job Description</th>\n",
       "      <th>Rating</th>\n",
       "      <th>Company Name</th>\n",
       "      <th>Location</th>\n",
       "      <th>Headquarters</th>\n",
       "      <th>Size</th>\n",
       "      <th>Founded</th>\n",
       "      <th>Type of ownership</th>\n",
       "      <th>...</th>\n",
       "      <th>avg_salry</th>\n",
       "      <th>company_text</th>\n",
       "      <th>job_state</th>\n",
       "      <th>same_state</th>\n",
       "      <th>age</th>\n",
       "      <th>python_yn</th>\n",
       "      <th>r_yn</th>\n",
       "      <th>spark_yn</th>\n",
       "      <th>aws_yn</th>\n",
       "      <th>excel_yn</th>\n",
       "    </tr>\n",
       "  </thead>\n",
       "  <tbody>\n",
       "    <tr>\n",
       "      <th>0</th>\n",
       "      <td>Senior Data Scientist, Machine Learning</td>\n",
       "      <td>$117K-$187K (Est. de Glassdoor)</td>\n",
       "      <td>Atlassian is continuing to hire with all inter...</td>\n",
       "      <td>4.4</td>\n",
       "      <td>Atlassian\\n4.4</td>\n",
       "      <td>Mountain View, CA</td>\n",
       "      <td>Sydney, Australia</td>\n",
       "      <td>De 1001 a 5000�empleados</td>\n",
       "      <td>2002</td>\n",
       "      <td>Empresa privada (cotiza en bolsa)</td>\n",
       "      <td>...</td>\n",
       "      <td>152.0</td>\n",
       "      <td>Atlassian\\n</td>\n",
       "      <td>CA</td>\n",
       "      <td>0</td>\n",
       "      <td>18</td>\n",
       "      <td>1</td>\n",
       "      <td>0</td>\n",
       "      <td>0</td>\n",
       "      <td>1</td>\n",
       "      <td>0</td>\n",
       "    </tr>\n",
       "    <tr>\n",
       "      <th>1</th>\n",
       "      <td>Data Scientist</td>\n",
       "      <td>$55K-$91K (Est. de Glassdoor)</td>\n",
       "      <td>Careers | UL | Data Scientist in Northbrook, I...</td>\n",
       "      <td>3.3</td>\n",
       "      <td>Underwriters Laboratories\\n3.3</td>\n",
       "      <td>Northbrook, IL</td>\n",
       "      <td>Northbrook, IL</td>\n",
       "      <td>M�s de 10�000�empleados</td>\n",
       "      <td>1894</td>\n",
       "      <td>Empresa privada</td>\n",
       "      <td>...</td>\n",
       "      <td>73.0</td>\n",
       "      <td>Underwriters Laboratories\\n</td>\n",
       "      <td>IL</td>\n",
       "      <td>1</td>\n",
       "      <td>126</td>\n",
       "      <td>0</td>\n",
       "      <td>0</td>\n",
       "      <td>1</td>\n",
       "      <td>0</td>\n",
       "      <td>0</td>\n",
       "    </tr>\n",
       "    <tr>\n",
       "      <th>2</th>\n",
       "      <td>Data Scientist</td>\n",
       "      <td>$78K-$131K (Est. de Glassdoor)</td>\n",
       "      <td>VA Boston Healthcare System\\nBoston, Massachus...</td>\n",
       "      <td>3.6</td>\n",
       "      <td>VA Boston Healthcare System\\n3.6</td>\n",
       "      <td>Boston, MA</td>\n",
       "      <td>Boston, MA</td>\n",
       "      <td>De 201 a 500�empleados</td>\n",
       "      <td>-1</td>\n",
       "      <td>Hospital</td>\n",
       "      <td>...</td>\n",
       "      <td>104.5</td>\n",
       "      <td>VA Boston Healthcare System\\n</td>\n",
       "      <td>MA</td>\n",
       "      <td>1</td>\n",
       "      <td>-1</td>\n",
       "      <td>1</td>\n",
       "      <td>0</td>\n",
       "      <td>0</td>\n",
       "      <td>0</td>\n",
       "      <td>0</td>\n",
       "    </tr>\n",
       "    <tr>\n",
       "      <th>3</th>\n",
       "      <td>Data Scientist</td>\n",
       "      <td>$145K-$225K(Est. de la empresa)</td>\n",
       "      <td>Role Description\\nAs a data scientist at Tripl...</td>\n",
       "      <td>3.2</td>\n",
       "      <td>Triplebyte\\n3.2</td>\n",
       "      <td>New York, NY</td>\n",
       "      <td>San Francisco, CA</td>\n",
       "      <td>De 51 a 200�empleados</td>\n",
       "      <td>2015</td>\n",
       "      <td>Empresa privada</td>\n",
       "      <td>...</td>\n",
       "      <td>185.0</td>\n",
       "      <td>Triplebyte\\n</td>\n",
       "      <td>NY</td>\n",
       "      <td>0</td>\n",
       "      <td>5</td>\n",
       "      <td>0</td>\n",
       "      <td>0</td>\n",
       "      <td>0</td>\n",
       "      <td>0</td>\n",
       "      <td>0</td>\n",
       "    </tr>\n",
       "    <tr>\n",
       "      <th>4</th>\n",
       "      <td>Data Scientist - Statistics, Early Career</td>\n",
       "      <td>$56K-$97K (Est. de Glassdoor)</td>\n",
       "      <td>*Organization and Job ID**\\nJob ID: 310918\\n\\n...</td>\n",
       "      <td>3.8</td>\n",
       "      <td>PNNL\\n3.8</td>\n",
       "      <td>Richland, WA</td>\n",
       "      <td>Richland, WA</td>\n",
       "      <td>De 1001 a 5000�empleados</td>\n",
       "      <td>1965</td>\n",
       "      <td>Empresa pública</td>\n",
       "      <td>...</td>\n",
       "      <td>76.5</td>\n",
       "      <td>PNNL\\n</td>\n",
       "      <td>WA</td>\n",
       "      <td>1</td>\n",
       "      <td>55</td>\n",
       "      <td>0</td>\n",
       "      <td>0</td>\n",
       "      <td>0</td>\n",
       "      <td>0</td>\n",
       "      <td>1</td>\n",
       "    </tr>\n",
       "  </tbody>\n",
       "</table>\n",
       "<p>5 rows × 28 columns</p>\n",
       "</div>"
      ],
      "text/plain": [
       "                                   Job Title                  Salary Estimate  \\\n",
       "0    Senior Data Scientist, Machine Learning  $117K-$187K (Est. de Glassdoor)   \n",
       "1                             Data Scientist    $55K-$91K (Est. de Glassdoor)   \n",
       "2                             Data Scientist   $78K-$131K (Est. de Glassdoor)   \n",
       "3                             Data Scientist  $145K-$225K(Est. de la empresa)   \n",
       "4  Data Scientist - Statistics, Early Career    $56K-$97K (Est. de Glassdoor)   \n",
       "\n",
       "                                     Job Description  Rating  \\\n",
       "0  Atlassian is continuing to hire with all inter...     4.4   \n",
       "1  Careers | UL | Data Scientist in Northbrook, I...     3.3   \n",
       "2  VA Boston Healthcare System\\nBoston, Massachus...     3.6   \n",
       "3  Role Description\\nAs a data scientist at Tripl...     3.2   \n",
       "4  *Organization and Job ID**\\nJob ID: 310918\\n\\n...     3.8   \n",
       "\n",
       "                       Company Name           Location       Headquarters  \\\n",
       "0                    Atlassian\\n4.4  Mountain View, CA  Sydney, Australia   \n",
       "1    Underwriters Laboratories\\n3.3     Northbrook, IL     Northbrook, IL   \n",
       "2  VA Boston Healthcare System\\n3.6         Boston, MA         Boston, MA   \n",
       "3                   Triplebyte\\n3.2       New York, NY  San Francisco, CA   \n",
       "4                         PNNL\\n3.8       Richland, WA       Richland, WA   \n",
       "\n",
       "                       Size  Founded                  Type of ownership  ...  \\\n",
       "0  De 1001 a 5000�empleados     2002  Empresa privada (cotiza en bolsa)  ...   \n",
       "1   M�s de 10�000�empleados     1894                    Empresa privada  ...   \n",
       "2    De 201 a 500�empleados       -1                           Hospital  ...   \n",
       "3     De 51 a 200�empleados     2015                    Empresa privada  ...   \n",
       "4  De 1001 a 5000�empleados     1965                    Empresa pública  ...   \n",
       "\n",
       "  avg_salry                   company_text job_state  same_state  age  \\\n",
       "0     152.0                    Atlassian\\n        CA           0   18   \n",
       "1      73.0    Underwriters Laboratories\\n        IL           1  126   \n",
       "2     104.5  VA Boston Healthcare System\\n        MA           1   -1   \n",
       "3     185.0                   Triplebyte\\n        NY           0    5   \n",
       "4      76.5                         PNNL\\n        WA           1   55   \n",
       "\n",
       "   python_yn  r_yn  spark_yn  aws_yn excel_yn  \n",
       "0          1     0         0       1        0  \n",
       "1          0     0         1       0        0  \n",
       "2          1     0         0       0        0  \n",
       "3          0     0         0       0        0  \n",
       "4          0     0         0       0        1  \n",
       "\n",
       "[5 rows x 28 columns]"
      ]
     },
     "execution_count": 98,
     "metadata": {},
     "output_type": "execute_result"
    }
   ],
   "source": [
    "df.head()"
   ]
  },
  {
   "cell_type": "code",
   "execution_count": 99,
   "metadata": {},
   "outputs": [
    {
     "data": {
      "text/plain": [
       "Index(['Job Title', 'Salary Estimate', 'Job Description', 'Rating',\n",
       "       'Company Name', 'Location', 'Headquarters', 'Size', 'Founded',\n",
       "       'Type of ownership', 'Industry', 'Sector', 'Revenue', 'Competitors',\n",
       "       'employer_provided', 'hourly', 'min_salary', 'max_salary', 'avg_salry',\n",
       "       'company_text', 'job_state', 'same_state', 'age', 'python_yn', 'r_yn',\n",
       "       'spark_yn', 'aws_yn', 'excel_yn'],\n",
       "      dtype='object')"
      ]
     },
     "execution_count": 99,
     "metadata": {},
     "output_type": "execute_result"
    }
   ],
   "source": [
    "df.columns"
   ]
  },
  {
   "cell_type": "code",
   "execution_count": 100,
   "metadata": {},
   "outputs": [],
   "source": [
    "def title_simplifier(title):\n",
    "    if 'data scientist' in title.lower():\n",
    "        return 'data scientist'\n",
    "    elif 'data engineer' in title.lower():\n",
    "        return 'data engineer'\n",
    "    elif 'analyst' in title.lower():\n",
    "        return 'analyst'\n",
    "    elif 'machine learning' in title.lower():\n",
    "        return 'mle'\n",
    "    elif 'manager' in title.lower():\n",
    "        return 'manager'\n",
    "    elif 'director' in title.lower():\n",
    "        return 'director'\n",
    "    else:\n",
    "        return 'na'\n",
    "    \n",
    "def seniority(title):\n",
    "    if 'sr' in title.lower() or 'senior' in title.lower() or 'sr.' in title.lower() or 'lead' in title.lower() or 'principal' in title.lower():\n",
    "            return 'senior'\n",
    "    elif 'jr' in title.lower() or 'jr.' in title.lower():\n",
    "        return 'jr'\n",
    "    else:\n",
    "        return 'na'"
   ]
  },
  {
   "cell_type": "code",
   "execution_count": 101,
   "metadata": {},
   "outputs": [],
   "source": [
    "df['job_simp'] = df['Job Title'].apply(title_simplifier)"
   ]
  },
  {
   "cell_type": "code",
   "execution_count": 102,
   "metadata": {},
   "outputs": [
    {
     "data": {
      "text/plain": [
       "data scientist    892\n",
       "Name: job_simp, dtype: int64"
      ]
     },
     "execution_count": 102,
     "metadata": {},
     "output_type": "execute_result"
    }
   ],
   "source": [
    "df.job_simp.value_counts()"
   ]
  },
  {
   "cell_type": "code",
   "execution_count": 103,
   "metadata": {},
   "outputs": [],
   "source": [
    "df['seniority'] = df['Job Title'].apply(seniority)"
   ]
  },
  {
   "cell_type": "code",
   "execution_count": 104,
   "metadata": {},
   "outputs": [
    {
     "data": {
      "text/plain": [
       "na        792\n",
       "senior    100\n",
       "Name: seniority, dtype: int64"
      ]
     },
     "execution_count": 104,
     "metadata": {},
     "output_type": "execute_result"
    }
   ],
   "source": [
    "df.seniority.value_counts()"
   ]
  },
  {
   "cell_type": "code",
   "execution_count": 105,
   "metadata": {},
   "outputs": [
    {
     "data": {
      "text/plain": [
       "VA    166\n",
       "NY    134\n",
       "OH     99\n",
       "UT     67\n",
       "WA     67\n",
       "MA     67\n",
       "IL     59\n",
       "CA     34\n",
       "TX     34\n",
       "PA     33\n",
       "WI     33\n",
       "NC     33\n",
       "FL     33\n",
       "CT     33\n",
       "Name: job_state, dtype: int64"
      ]
     },
     "execution_count": 105,
     "metadata": {},
     "output_type": "execute_result"
    }
   ],
   "source": [
    "df.job_state.value_counts()"
   ]
  },
  {
   "cell_type": "code",
   "execution_count": 106,
   "metadata": {},
   "outputs": [
    {
     "data": {
      "text/plain": [
       "0      5049\n",
       "1      3581\n",
       "2      3452\n",
       "3      1948\n",
       "4      5278\n",
       "       ... \n",
       "887    5278\n",
       "888    3554\n",
       "889    4076\n",
       "890    2645\n",
       "891    2692\n",
       "Name: desc_len, Length: 892, dtype: int64"
      ]
     },
     "execution_count": 106,
     "metadata": {},
     "output_type": "execute_result"
    }
   ],
   "source": [
    "# DESC LENGTH.\n",
    "df['desc_len'] = df['Job Description'].apply(lambda x: len(x))\n",
    "df['desc_len'] "
   ]
  },
  {
   "cell_type": "code",
   "execution_count": 107,
   "metadata": {},
   "outputs": [],
   "source": [
    "#make hourly wage annual\n",
    "df['min_salary'] = df.apply(lambda x: x.min_salary*2 if x.hourly == 1 else x.min_salary, axis = 1)\n",
    "df['max_salary'] = df.apply(lambda x: x.max_salary*2 if x.hourly == 1 else x.max_salary, axis = 1)"
   ]
  },
  {
   "cell_type": "code",
   "execution_count": 108,
   "metadata": {},
   "outputs": [
    {
     "data": {
      "text/html": [
       "<div>\n",
       "<style scoped>\n",
       "    .dataframe tbody tr th:only-of-type {\n",
       "        vertical-align: middle;\n",
       "    }\n",
       "\n",
       "    .dataframe tbody tr th {\n",
       "        vertical-align: top;\n",
       "    }\n",
       "\n",
       "    .dataframe thead th {\n",
       "        text-align: right;\n",
       "    }\n",
       "</style>\n",
       "<table border=\"1\" class=\"dataframe\">\n",
       "  <thead>\n",
       "    <tr style=\"text-align: right;\">\n",
       "      <th></th>\n",
       "      <th>hourly</th>\n",
       "      <th>min_salary</th>\n",
       "      <th>max_salary</th>\n",
       "    </tr>\n",
       "  </thead>\n",
       "  <tbody>\n",
       "    <tr>\n",
       "      <th>7</th>\n",
       "      <td>1</td>\n",
       "      <td>28</td>\n",
       "      <td>66</td>\n",
       "    </tr>\n",
       "    <tr>\n",
       "      <th>34</th>\n",
       "      <td>1</td>\n",
       "      <td>28</td>\n",
       "      <td>66</td>\n",
       "    </tr>\n",
       "    <tr>\n",
       "      <th>61</th>\n",
       "      <td>1</td>\n",
       "      <td>28</td>\n",
       "      <td>66</td>\n",
       "    </tr>\n",
       "    <tr>\n",
       "      <th>88</th>\n",
       "      <td>1</td>\n",
       "      <td>28</td>\n",
       "      <td>66</td>\n",
       "    </tr>\n",
       "    <tr>\n",
       "      <th>115</th>\n",
       "      <td>1</td>\n",
       "      <td>28</td>\n",
       "      <td>66</td>\n",
       "    </tr>\n",
       "    <tr>\n",
       "      <th>142</th>\n",
       "      <td>1</td>\n",
       "      <td>28</td>\n",
       "      <td>66</td>\n",
       "    </tr>\n",
       "    <tr>\n",
       "      <th>169</th>\n",
       "      <td>1</td>\n",
       "      <td>28</td>\n",
       "      <td>66</td>\n",
       "    </tr>\n",
       "    <tr>\n",
       "      <th>196</th>\n",
       "      <td>1</td>\n",
       "      <td>28</td>\n",
       "      <td>66</td>\n",
       "    </tr>\n",
       "    <tr>\n",
       "      <th>223</th>\n",
       "      <td>1</td>\n",
       "      <td>28</td>\n",
       "      <td>66</td>\n",
       "    </tr>\n",
       "    <tr>\n",
       "      <th>250</th>\n",
       "      <td>1</td>\n",
       "      <td>28</td>\n",
       "      <td>66</td>\n",
       "    </tr>\n",
       "    <tr>\n",
       "      <th>277</th>\n",
       "      <td>1</td>\n",
       "      <td>28</td>\n",
       "      <td>66</td>\n",
       "    </tr>\n",
       "    <tr>\n",
       "      <th>304</th>\n",
       "      <td>1</td>\n",
       "      <td>28</td>\n",
       "      <td>66</td>\n",
       "    </tr>\n",
       "    <tr>\n",
       "      <th>331</th>\n",
       "      <td>1</td>\n",
       "      <td>28</td>\n",
       "      <td>66</td>\n",
       "    </tr>\n",
       "    <tr>\n",
       "      <th>358</th>\n",
       "      <td>1</td>\n",
       "      <td>28</td>\n",
       "      <td>66</td>\n",
       "    </tr>\n",
       "    <tr>\n",
       "      <th>385</th>\n",
       "      <td>1</td>\n",
       "      <td>28</td>\n",
       "      <td>66</td>\n",
       "    </tr>\n",
       "    <tr>\n",
       "      <th>412</th>\n",
       "      <td>1</td>\n",
       "      <td>28</td>\n",
       "      <td>66</td>\n",
       "    </tr>\n",
       "    <tr>\n",
       "      <th>439</th>\n",
       "      <td>1</td>\n",
       "      <td>28</td>\n",
       "      <td>66</td>\n",
       "    </tr>\n",
       "    <tr>\n",
       "      <th>466</th>\n",
       "      <td>1</td>\n",
       "      <td>28</td>\n",
       "      <td>66</td>\n",
       "    </tr>\n",
       "    <tr>\n",
       "      <th>493</th>\n",
       "      <td>1</td>\n",
       "      <td>28</td>\n",
       "      <td>66</td>\n",
       "    </tr>\n",
       "    <tr>\n",
       "      <th>520</th>\n",
       "      <td>1</td>\n",
       "      <td>28</td>\n",
       "      <td>66</td>\n",
       "    </tr>\n",
       "    <tr>\n",
       "      <th>547</th>\n",
       "      <td>1</td>\n",
       "      <td>28</td>\n",
       "      <td>66</td>\n",
       "    </tr>\n",
       "    <tr>\n",
       "      <th>574</th>\n",
       "      <td>1</td>\n",
       "      <td>28</td>\n",
       "      <td>66</td>\n",
       "    </tr>\n",
       "    <tr>\n",
       "      <th>601</th>\n",
       "      <td>1</td>\n",
       "      <td>28</td>\n",
       "      <td>66</td>\n",
       "    </tr>\n",
       "    <tr>\n",
       "      <th>628</th>\n",
       "      <td>1</td>\n",
       "      <td>28</td>\n",
       "      <td>66</td>\n",
       "    </tr>\n",
       "    <tr>\n",
       "      <th>655</th>\n",
       "      <td>1</td>\n",
       "      <td>28</td>\n",
       "      <td>66</td>\n",
       "    </tr>\n",
       "    <tr>\n",
       "      <th>682</th>\n",
       "      <td>1</td>\n",
       "      <td>28</td>\n",
       "      <td>66</td>\n",
       "    </tr>\n",
       "    <tr>\n",
       "      <th>708</th>\n",
       "      <td>1</td>\n",
       "      <td>28</td>\n",
       "      <td>66</td>\n",
       "    </tr>\n",
       "    <tr>\n",
       "      <th>734</th>\n",
       "      <td>1</td>\n",
       "      <td>28</td>\n",
       "      <td>66</td>\n",
       "    </tr>\n",
       "    <tr>\n",
       "      <th>760</th>\n",
       "      <td>1</td>\n",
       "      <td>28</td>\n",
       "      <td>66</td>\n",
       "    </tr>\n",
       "    <tr>\n",
       "      <th>786</th>\n",
       "      <td>1</td>\n",
       "      <td>28</td>\n",
       "      <td>66</td>\n",
       "    </tr>\n",
       "    <tr>\n",
       "      <th>812</th>\n",
       "      <td>1</td>\n",
       "      <td>28</td>\n",
       "      <td>66</td>\n",
       "    </tr>\n",
       "    <tr>\n",
       "      <th>838</th>\n",
       "      <td>1</td>\n",
       "      <td>28</td>\n",
       "      <td>66</td>\n",
       "    </tr>\n",
       "    <tr>\n",
       "      <th>864</th>\n",
       "      <td>1</td>\n",
       "      <td>28</td>\n",
       "      <td>66</td>\n",
       "    </tr>\n",
       "    <tr>\n",
       "      <th>890</th>\n",
       "      <td>1</td>\n",
       "      <td>28</td>\n",
       "      <td>66</td>\n",
       "    </tr>\n",
       "  </tbody>\n",
       "</table>\n",
       "</div>"
      ],
      "text/plain": [
       "     hourly  min_salary  max_salary\n",
       "7         1          28          66\n",
       "34        1          28          66\n",
       "61        1          28          66\n",
       "88        1          28          66\n",
       "115       1          28          66\n",
       "142       1          28          66\n",
       "169       1          28          66\n",
       "196       1          28          66\n",
       "223       1          28          66\n",
       "250       1          28          66\n",
       "277       1          28          66\n",
       "304       1          28          66\n",
       "331       1          28          66\n",
       "358       1          28          66\n",
       "385       1          28          66\n",
       "412       1          28          66\n",
       "439       1          28          66\n",
       "466       1          28          66\n",
       "493       1          28          66\n",
       "520       1          28          66\n",
       "547       1          28          66\n",
       "574       1          28          66\n",
       "601       1          28          66\n",
       "628       1          28          66\n",
       "655       1          28          66\n",
       "682       1          28          66\n",
       "708       1          28          66\n",
       "734       1          28          66\n",
       "760       1          28          66\n",
       "786       1          28          66\n",
       "812       1          28          66\n",
       "838       1          28          66\n",
       "864       1          28          66\n",
       "890       1          28          66"
      ]
     },
     "execution_count": 108,
     "metadata": {},
     "output_type": "execute_result"
    }
   ],
   "source": [
    "df[df.hourly == 1][['hourly', 'min_salary', 'max_salary']]"
   ]
  },
  {
   "cell_type": "code",
   "execution_count": 109,
   "metadata": {},
   "outputs": [],
   "source": [
    "df['company_text'] = df['company_text'].apply(lambda x: x.replace(\"\\n\", \"\"))"
   ]
  },
  {
   "cell_type": "code",
   "execution_count": 110,
   "metadata": {},
   "outputs": [
    {
     "data": {
      "text/plain": [
       "Index(['Job Title', 'Salary Estimate', 'Job Description', 'Rating',\n",
       "       'Company Name', 'Location', 'Headquarters', 'Size', 'Founded',\n",
       "       'Type of ownership', 'Industry', 'Sector', 'Revenue', 'Competitors',\n",
       "       'employer_provided', 'hourly', 'min_salary', 'max_salary', 'avg_salry',\n",
       "       'company_text', 'job_state', 'same_state', 'age', 'python_yn', 'r_yn',\n",
       "       'spark_yn', 'aws_yn', 'excel_yn', 'job_simp', 'seniority', 'desc_len'],\n",
       "      dtype='object')"
      ]
     },
     "execution_count": 110,
     "metadata": {},
     "output_type": "execute_result"
    }
   ],
   "source": [
    "df.columns"
   ]
  },
  {
   "cell_type": "code",
   "execution_count": 111,
   "metadata": {},
   "outputs": [
    {
     "data": {
      "text/plain": [
       "<matplotlib.axes._subplots.AxesSubplot at 0x2125db4a908>"
      ]
     },
     "execution_count": 111,
     "metadata": {},
     "output_type": "execute_result"
    },
    {
     "data": {
      "image/png": "[encoded data removed]",
      "text/plain": [
       "<Figure size 432x288 with 1 Axes>"
      ]
     },
     "metadata": {
      "needs_background": "light"
     },
     "output_type": "display_data"
    }
   ],
   "source": [
    "df.Rating.hist()"
   ]
  },
  {
   "cell_type": "code",
   "execution_count": 112,
   "metadata": {},
   "outputs": [
    {
     "data": {
      "text/plain": [
       "<matplotlib.axes._subplots.AxesSubplot at 0x2125dbaf708>"
      ]
     },
     "execution_count": 112,
     "metadata": {},
     "output_type": "execute_result"
    },
    {
     "data": {
      "image/png": "[encoded data removed]",
      "text/plain": [
       "<Figure size 432x288 with 1 Axes>"
      ]
     },
     "metadata": {
      "needs_background": "light"
     },
     "output_type": "display_data"
    }
   ],
   "source": [
    "df.avg_salry.hist()"
   ]
  },
  {
   "cell_type": "code",
   "execution_count": 113,
   "metadata": {},
   "outputs": [
    {
     "data": {
      "text/plain": [
       "<matplotlib.axes._subplots.AxesSubplot at 0x2125dc2ec08>"
      ]
     },
     "execution_count": 113,
     "metadata": {},
     "output_type": "execute_result"
    },
    {
     "data": {
      "image/png": "[encoded data removed]",
      "text/plain": [
       "<Figure size 432x288 with 1 Axes>"
      ]
     },
     "metadata": {
      "needs_background": "light"
     },
     "output_type": "display_data"
    }
   ],
   "source": [
    "df.desc_len.hist()"
   ]
  },
  {
   "cell_type": "code",
   "execution_count": 114,
   "metadata": {},
   "outputs": [
    {
     "data": {
      "text/plain": [
       "<matplotlib.axes._subplots.AxesSubplot at 0x2125dcc6848>"
      ]
     },
     "execution_count": 114,
     "metadata": {},
     "output_type": "execute_result"
    },
    {
     "data": {
      "image/png": "[encoded data removed]",
      "text/plain": [
       "<Figure size 432x288 with 1 Axes>"
      ]
     },
     "metadata": {
      "needs_background": "light"
     },
     "output_type": "display_data"
    }
   ],
   "source": [
    "df.boxplot(column = ['avg_salry', 'age'] )"
   ]
  },
  {
   "cell_type": "code",
   "execution_count": 115,
   "metadata": {},
   "outputs": [
    {
     "data": {
      "text/plain": [
       "<matplotlib.axes._subplots.AxesSubplot at 0x2125ed14688>"
      ]
     },
     "execution_count": 115,
     "metadata": {},
     "output_type": "execute_result"
    },
    {
     "data": {
      "image/png": "[encoded data removed]",
      "text/plain": [
       "<Figure size 432x288 with 1 Axes>"
      ]
     },
     "metadata": {
      "needs_background": "light"
     },
     "output_type": "display_data"
    }
   ],
   "source": [
    "df.boxplot(column = 'Rating')"
   ]
  },
  {
   "cell_type": "code",
   "execution_count": 116,
   "metadata": {},
   "outputs": [
    {
     "data": {
      "text/html": [
       "<div>\n",
       "<style scoped>\n",
       "    .dataframe tbody tr th:only-of-type {\n",
       "        vertical-align: middle;\n",
       "    }\n",
       "\n",
       "    .dataframe tbody tr th {\n",
       "        vertical-align: top;\n",
       "    }\n",
       "\n",
       "    .dataframe thead th {\n",
       "        text-align: right;\n",
       "    }\n",
       "</style>\n",
       "<table border=\"1\" class=\"dataframe\">\n",
       "  <thead>\n",
       "    <tr style=\"text-align: right;\">\n",
       "      <th></th>\n",
       "      <th>avg_salry</th>\n",
       "      <th>age</th>\n",
       "      <th>Rating</th>\n",
       "      <th>desc_len</th>\n",
       "    </tr>\n",
       "  </thead>\n",
       "  <tbody>\n",
       "    <tr>\n",
       "      <th>avg_salry</th>\n",
       "      <td>1.000000</td>\n",
       "      <td>-0.314594</td>\n",
       "      <td>0.011256</td>\n",
       "      <td>-0.200149</td>\n",
       "    </tr>\n",
       "    <tr>\n",
       "      <th>age</th>\n",
       "      <td>-0.314594</td>\n",
       "      <td>1.000000</td>\n",
       "      <td>0.007520</td>\n",
       "      <td>0.089574</td>\n",
       "    </tr>\n",
       "    <tr>\n",
       "      <th>Rating</th>\n",
       "      <td>0.011256</td>\n",
       "      <td>0.007520</td>\n",
       "      <td>1.000000</td>\n",
       "      <td>0.026782</td>\n",
       "    </tr>\n",
       "    <tr>\n",
       "      <th>desc_len</th>\n",
       "      <td>-0.200149</td>\n",
       "      <td>0.089574</td>\n",
       "      <td>0.026782</td>\n",
       "      <td>1.000000</td>\n",
       "    </tr>\n",
       "  </tbody>\n",
       "</table>\n",
       "</div>"
      ],
      "text/plain": [
       "           avg_salry       age    Rating  desc_len\n",
       "avg_salry   1.000000 -0.314594  0.011256 -0.200149\n",
       "age        -0.314594  1.000000  0.007520  0.089574\n",
       "Rating      0.011256  0.007520  1.000000  0.026782\n",
       "desc_len   -0.200149  0.089574  0.026782  1.000000"
      ]
     },
     "execution_count": 116,
     "metadata": {},
     "output_type": "execute_result"
    }
   ],
   "source": [
    "df[['avg_salry', 'age','Rating','desc_len' ] ].corr()"
   ]
  },
  {
   "cell_type": "code",
   "execution_count": 117,
   "metadata": {},
   "outputs": [
    {
     "data": {
      "text/plain": [
       "<matplotlib.axes._subplots.AxesSubplot at 0x2125daa9288>"
      ]
     },
     "execution_count": 117,
     "metadata": {},
     "output_type": "execute_result"
    },
    {
     "data": {
      "image/png": "[encoded data removed]",
      "text/plain": [
       "<Figure size 432x288 with 2 Axes>"
      ]
     },
     "metadata": {
      "needs_background": "light"
     },
     "output_type": "display_data"
    }
   ],
   "source": [
    "cmap = sns.diverging_palette(220, 10, as_cmap=True)\n",
    "sns.heatmap(df[['age','avg_salry','Rating','desc_len']].corr(),vmax=.3, center=0, cmap=cmap,\n",
    "            square=True, linewidths=.5, cbar_kws={\"shrink\": .5})"
   ]
  },
  {
   "cell_type": "code",
   "execution_count": 119,
   "metadata": {},
   "outputs": [],
   "source": [
    "df_cat = df[['Location', 'Headquarters', 'Size','Type of ownership', 'Industry', 'Sector', 'Revenue', 'company_text', 'job_state','same_state', 'python_yn', 'r_yn',\n",
    "       'spark_yn', 'aws_yn', 'excel_yn', 'job_simp', 'seniority']]"
   ]
  },
  {
   "cell_type": "code",
   "execution_count": 121,
   "metadata": {},
   "outputs": [
    {
     "ename": "AttributeError",
     "evalue": "module 'matplotlib' has no attribute 'show'",
     "output_type": "error",
     "traceback": [
      "\u001b[1;31m---------------------------------------------------------------------------\u001b[0m",
      "\u001b[1;31mAttributeError\u001b[0m                            Traceback (most recent call last)",
      "\u001b[1;32m<ipython-input-121-6f92e477dd8c>\u001b[0m in \u001b[0;36m<module>\u001b[1;34m\u001b[0m\n\u001b[0;32m      2\u001b[0m     \u001b[0mcat_num\u001b[0m \u001b[1;33m=\u001b[0m \u001b[0mdf_cat\u001b[0m\u001b[1;33m[\u001b[0m\u001b[0mi\u001b[0m\u001b[1;33m]\u001b[0m\u001b[1;33m.\u001b[0m\u001b[0mvalue_counts\u001b[0m\u001b[1;33m(\u001b[0m\u001b[1;33m)\u001b[0m\u001b[1;33m\u001b[0m\u001b[1;33m\u001b[0m\u001b[0m\n\u001b[0;32m      3\u001b[0m     \u001b[0msns\u001b[0m\u001b[1;33m.\u001b[0m\u001b[0mbarplot\u001b[0m\u001b[1;33m(\u001b[0m\u001b[0mx\u001b[0m\u001b[1;33m=\u001b[0m\u001b[0mcat_num\u001b[0m\u001b[1;33m.\u001b[0m\u001b[0mindex\u001b[0m\u001b[1;33m,\u001b[0m \u001b[0my\u001b[0m\u001b[1;33m=\u001b[0m\u001b[0mcat_num\u001b[0m\u001b[1;33m)\u001b[0m\u001b[1;33m\u001b[0m\u001b[1;33m\u001b[0m\u001b[0m\n\u001b[1;32m----> 4\u001b[1;33m     \u001b[0mplt\u001b[0m\u001b[1;33m.\u001b[0m\u001b[0mshow\u001b[0m\u001b[1;33m(\u001b[0m\u001b[1;33m)\u001b[0m\u001b[1;33m\u001b[0m\u001b[1;33m\u001b[0m\u001b[0m\n\u001b[0m",
      "\u001b[1;31mAttributeError\u001b[0m: module 'matplotlib' has no attribute 'show'"
     ]
    },
    {
     "data": {
      "image/png": "[encoded data removed]",
      "text/plain": [
       "<Figure size 432x288 with 1 Axes>"
      ]
     },
     "metadata": {
      "needs_background": "light"
     },
     "output_type": "display_data"
    }
   ],
   "source": [
    "for i in df_cat.columns:\n",
    "    cat_num = df_cat[i].value_counts()\n",
    "    sns.barplot(x=cat_num.index, y=cat_num)\n",
    "    plt.show()"
   ]
  },
  {
   "cell_type": "code",
   "execution_count": null,
   "metadata": {},
   "outputs": [],
   "source": []
  },
  {
   "cell_type": "code",
   "execution_count": null,
   "metadata": {},
   "outputs": [],
   "source": []
  }
 ],
 "metadata": {
  "kernelspec": {
   "display_name": "Python 3",
   "language": "python",
   "name": "python3"
  },
  "language_info": {
   "codemirror_mode": {
    "name": "ipython",
    "version": 3
   },
   "file_extension": ".py",
   "mimetype": "text/x-python",
   "name": "python",
   "nbconvert_exporter": "python",
   "pygments_lexer": "ipython3",
   "version": "3.7.6"
  }
 },
 "nbformat": 4,
 "nbformat_minor": 4
}
